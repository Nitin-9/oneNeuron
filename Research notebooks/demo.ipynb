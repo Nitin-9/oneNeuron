{
 "cells": [
  {
   "cell_type": "code",
   "execution_count": 4,
   "id": "3718947f",
   "metadata": {},
   "outputs": [],
   "source": [
    "import numpy as np"
   ]
  },
  {
   "cell_type": "code",
   "execution_count": null,
   "id": "b06071c8",
   "metadata": {},
   "outputs": [],
   "source": [
    "import logging\n",
    "from utils.model import Perceptron\n",
    "from utils.all_utils import prepare_data, save_model, save_plot\n",
    "import pandas as pd\n",
    "\n",
    "def main(data, eta, epochs, filename, plotName):\n",
    "    df = pd.DataFrame(data)\n",
    "    logging.info(f\"This is actual dataframe{df}\")\n",
    "    X,y = prepare_data(df)\n",
    "\n",
    "    model =Perceptron(eta=eta, epochs=epochs)\n",
    "    model.fit(X,y)\n",
    "\n",
    "    _ = model.total_loss() # underscore _ is adummy variable , you can remove it if you want\n",
    "\n",
    "    save_model(model, filename=filename)\n",
    "    save_plot(df, plotName, model\n",
    "\n",
    "\n",
    "OR ={\n",
    "    \"x1\":[0,0,1,1],\n",
    "    \"x2\":[0,1,0,1],\n",
    "    \"y\":[0,1,1,1],\n",
    "}\n",
    "ETA =0.3 # 0 and 1\n",
    "EPOCHS = 10\n",
    "main(data=OR, eta=ETA, epochs=EPOCHS, filename=\"or.model\", plotName=\"or.png\")"
   ]
  }
 ],
 "metadata": {
  "kernelspec": {
   "display_name": "Python 3 (ipykernel)",
   "language": "python",
   "name": "python3"
  },
  "language_info": {
   "codemirror_mode": {
    "name": "ipython",
    "version": 3
   },
   "file_extension": ".py",
   "mimetype": "text/x-python",
   "name": "python",
   "nbconvert_exporter": "python",
   "pygments_lexer": "ipython3",
   "version": "3.8.12"
  }
 },
 "nbformat": 4,
 "nbformat_minor": 5
}
